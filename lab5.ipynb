{
 "cells": [
  {
   "cell_type": "code",
   "execution_count": null,
   "id": "b5a119a3",
   "metadata": {},
   "outputs": [],
   "source": [
    "import numpy as np\n",
    "import pandas as pd\n",
    "from sklearn.model_selection import train_test_split\n",
    "from sklearn.metrics import accuracy_score\n",
    "from sklearn.svm import SVC\n",
    "from sklearn.ensemble import RandomForestClassifier\n",
    "from sklearn import preprocessing\n",
    "from sklearn.metrics import accuracy_score\n",
    "from sklearn.preprocessing import LabelEncoder\n",
    "import warnings\n",
    "warnings.filterwarnings('ignore')\n"
   ]
  },
  {
   "cell_type": "code",
   "execution_count": null,
   "id": "0359c4ec",
   "metadata": {},
   "outputs": [
    {
     "name": "stderr",
     "output_type": "stream",
     "text": [
      "<>:1: SyntaxWarning: invalid escape sequence '\\.'\n",
      "<>:2: SyntaxWarning: invalid escape sequence '\\.'\n",
      "<>:1: SyntaxWarning: invalid escape sequence '\\.'\n",
      "<>:2: SyntaxWarning: invalid escape sequence '\\.'\n",
      "/var/folders/bl/1vx9mxbs4wb6r4dlwshm21240000gn/T/ipykernel_7101/49863852.py:1: SyntaxWarning: invalid escape sequence '\\.'\n",
      "  df_train[\"Title\"] = df_train.Name.str.extract(' ([A-Za-z]+)\\.', expand=False) #Creating new column name Title\n",
      "/var/folders/bl/1vx9mxbs4wb6r4dlwshm21240000gn/T/ipykernel_7101/49863852.py:2: SyntaxWarning: invalid escape sequence '\\.'\n",
      "  df_test[\"Title\"] = df_test.Name.str.extract(' ([A-Za-z]+)\\.', expand=False) #Creating new column name Title\n"
     ]
    }
   ],
   "source": [
    "df_train=pd.read_csv('train.csv')\n",
    "df_test=pd.read_csv('test.csv')\n",
    "df_train[\"Title\"] = df_train.Name.str.extract(' ([A-Za-z]+)\\.', expand=False)\n",
    "df_test[\"Title\"] = df_test.Name.str.extract(' ([A-Za-z]+)\\.', expand=False)\n",
    "df_train[\"Title\"] = df_train[\"Title\"].replace('Master', 'Master')\n",
    "df_train[\"Title\"] = df_train[\"Title\"].replace('Mlle', 'Miss')\n",
    "df_train[\"Title\"] = df_train[\"Title\"].replace(['Mme', 'Dona', 'Ms'], 'Mrs')\n",
    "df_train[\"Title\"] = df_train[\"Title\"].replace(['Don','Jonkheer'],'Mr')\n",
    "df_train[\"Title\"] = df_train[\"Title\"].replace(['Capt','Rev','Major', 'Col','Dr'], 'Millitary')\n",
    "df_train[\"Title\"] = df_train[\"Title\"].replace(['Lady', 'Countess','Sir'], 'Honor')\n",
    "df_test[\"Title\"] = df_test[\"Title\"].replace('Master', 'Master')\n",
    "df_test[\"Title\"] = df_test[\"Title\"].replace('Mlle', 'Miss')\n",
    "df_test[\"Title\"] = df_test[\"Title\"].replace(['Mme', 'Dona', 'Ms'], 'Mrs')\n",
    "df_test[\"Title\"] = df_test[\"Title\"].replace(['Don','Jonkheer'],'Mr')\n",
    "df_test[\"Title\"] = df_test[\"Title\"].replace(['Capt','Rev','Major', 'Col','Dr'], 'Millitary')\n",
    "df_test[\"Title\"] = df_test[\"Title\"].replace(['Lady', 'Countess','Sir'], 'Honor')\n",
    "titledummies = pd.get_dummies(df_train[['Title']], prefix_sep='_') #Title\n",
    "df_train = pd.concat([df_train, titledummies], axis=1) \n",
    "ttitledummies = pd.get_dummies(df_test[['Title']], prefix_sep='_') #Title\n",
    "df_test = pd.concat([df_test, ttitledummies], axis=1) \n",
    "df_train[\"Embarked\"] = df_train['Embarked'].fillna('S')\n",
    "df_test[\"Embarked\"] = df_test['Embarked'].fillna('S')\n",
    "dummies = pd.get_dummies(df_train[[\"Embarked\"]], prefix_sep='_')\n",
    "df_train = pd.concat([df_train, dummies], axis=1) \n",
    "dummies = pd.get_dummies(df_test[[\"Embarked\"]], prefix_sep='_')\n",
    "df_test = pd.concat([df_test, dummies], axis=1)\n",
    "df_train[\"Fare\"] = df_train[\"Fare\"].fillna(np.median(df_train[\"Fare\"]))\n",
    "df_test[\"Fare\"] = df_test[\"Fare\"].fillna(np.median(df_test[\"Fare\"]))\n",
    "titles = ['Master', 'Miss', 'Mr', 'Mrs', 'Millitary','Honor']\n",
    "for title in titles:\n",
    "    age_to_impute = df_train.groupby('Title')['Age'].median()[title]\n",
    "    df_train.loc[(df_train['Age'].isnull()) & (df_train['Title'] == title), 'Age'] = age_to_impute\n",
    "    df_test.loc[(df_test['Age'].isnull()) & (df_test['Title'] == title), 'Age'] = age_to_impute\n",
    "sex_mapping = {\"male\": 0, \"female\": 1}\n",
    "df_train['Sex'] = df_train['Sex'].map(sex_mapping)\n",
    "df_test['Sex'] = df_test['Sex'].map(sex_mapping)\n",
    "df_train = df_train.drop(['Cabin'], axis = 1)\n",
    "df_test = df_test.drop(['Cabin'], axis = 1)\n",
    "df_train = df_train.drop(['Name'], axis = 1)\n",
    "df_test = df_test.drop(['Name'], axis = 1)\n",
    "cols = df_test.columns.tolist()\n",
    "df_test = df_test[cols[:10] + ['Title_Honor'] + cols[10:-1]]\n",
    "def encode_features(df_train, df_test):\n",
    "    features = ['Title','Embarked','Ticket']    \n",
    "    for feature in features:\n",
    "        combined = pd.concat([df_train[feature], df_test[feature]], axis=0).astype(str)     \n",
    "        le = LabelEncoder()\n",
    "        le.fit(combined)     \n",
    "        df_train[feature] = le.transform(df_train[feature].astype(str))\n",
    "        df_test[feature]  = le.transform(df_test[feature].astype(str))  \n",
    "    return df_train, df_test\n",
    "df_train, df_test = encode_features(df_train.copy(), df_test.copy())\n",
    "df_train.head()\n",
    "df_test['Title_Honor'] = False\n",
    "predictors = df_train.drop(['Survived', 'PassengerId'], axis=1)\n",
    "target = df_train[\"Survived\"]\n",
    "X_train, X_val, y_train, y_val = train_test_split(predictors, target, test_size = 0.22)\n",
    "model2 = RandomForestClassifier(n_estimators=200, criterion='entropy', max_depth=5, min_samples_split=10,\n",
    "    min_samples_leaf=5,\n",
    "    max_features='sqrt',\n",
    "    bootstrap=True,           \n",
    "    class_weight='balanced',)\n",
    "model2.fit(X_train,y_train)\n",
    "prediction = model2.predict(df_test.drop(columns=\"PassengerId\"))\n",
    "test = pd.DataFrame( { 'PassengerId': df_test['PassengerId'] , 'Survived': prediction } )\n",
    "test.shape\n",
    "test.head()\n",
    "test.to_csv( 'titanic_pred.csv' , index = False )"
   ]
  }
 ],
 "metadata": {
  "kernelspec": {
   "display_name": "data100",
   "language": "python",
   "name": "python3"
  },
  "language_info": {
   "codemirror_mode": {
    "name": "ipython",
    "version": 3
   },
   "file_extension": ".py",
   "mimetype": "text/x-python",
   "name": "python",
   "nbconvert_exporter": "python",
   "pygments_lexer": "ipython3",
   "version": "3.13.5"
  }
 },
 "nbformat": 4,
 "nbformat_minor": 5
}
